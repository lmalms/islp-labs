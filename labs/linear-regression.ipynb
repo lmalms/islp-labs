{
 "cells": [
  {
   "cell_type": "code",
   "execution_count": null,
   "metadata": {},
   "outputs": [],
   "source": [
    "import numpy as np\n",
    "import pandas as pd\n",
    "import matplotlib.pyplot as plt\n",
    "\n",
    "import statsmodels.api as sm\n",
    "from statsmodels.stats.outliers_influence import variance_inflation_factor as VIF\n",
    "from statsmodels.stats.anova import anova_lm\n",
    "\n",
    "from ISLP import load_data\n",
    "from sklearn.preprocessing import PolynomialFeatures\n",
    "from sklearn.compose import ColumnTransformer"
   ]
  },
  {
   "cell_type": "markdown",
   "metadata": {},
   "source": [
    "# Linear Regression"
   ]
  },
  {
   "cell_type": "markdown",
   "metadata": {},
   "source": [
    "## Simple Linear Regression"
   ]
  },
  {
   "cell_type": "code",
   "execution_count": null,
   "metadata": {},
   "outputs": [],
   "source": [
    "boston = load_data(\"Boston\")\n",
    "boston.columns"
   ]
  },
  {
   "cell_type": "code",
   "execution_count": null,
   "metadata": {},
   "outputs": [],
   "source": [
    "# Fit OLS model\n",
    "X = pd.DataFrame(\n",
    "    {\n",
    "        \"intercept\": np.ones(boston.shape[0]),\n",
    "        \"lstat\": np.array(boston[\"lstat\"]),\n",
    "    }\n",
    ")\n",
    "y = np.array(boston[\"medv\"])\n",
    "\n",
    "model = sm.OLS(endog=y, exog=X)\n",
    "results = model.fit()"
   ]
  },
  {
   "cell_type": "code",
   "execution_count": null,
   "metadata": {},
   "outputs": [],
   "source": [
    "results.summary()"
   ]
  },
  {
   "cell_type": "code",
   "execution_count": null,
   "metadata": {},
   "outputs": [],
   "source": [
    "# Predict\n",
    "X_test = pd.DataFrame(\n",
    "    {\n",
    "        \"intercept\": np.array([1., 1., 1.]),\n",
    "        \"lstat\": np.array([5., 10., 15.])\n",
    "    }\n",
    ")\n",
    "y_hat = results.get_prediction(X_test)"
   ]
  },
  {
   "cell_type": "code",
   "execution_count": null,
   "metadata": {},
   "outputs": [],
   "source": [
    "y_hat.predicted_mean"
   ]
  },
  {
   "cell_type": "code",
   "execution_count": null,
   "metadata": {},
   "outputs": [],
   "source": [
    "# Confidence intervals\n",
    "y_hat.conf_int(alpha=0.05)"
   ]
  },
  {
   "cell_type": "code",
   "execution_count": null,
   "metadata": {},
   "outputs": [],
   "source": [
    "# Prediction intervals\n",
    "y_hat.conf_int(obs=True, alpha=0.05)"
   ]
  },
  {
   "cell_type": "code",
   "execution_count": null,
   "metadata": {},
   "outputs": [],
   "source": [
    "# Plot\n",
    "\n",
    "def abline(ax, b, m, *args, **kwargs):\n",
    "    \"Add a line with slope m and intercept b to ax\"\n",
    "    xlim = ax.get_xlim()\n",
    "    ylim = [m * xlim[0] + b, m * xlim[1] + b]\n",
    "    ax.plot(xlim, ylim, *args, **kwargs)\n",
    "\n",
    "\n",
    "ax = boston.plot.scatter(x=\"lstat\", y=\"medv\")\n",
    "abline(\n",
    "    ax,\n",
    "    results.params[0],\n",
    "    results.params[1],\n",
    "    \"r--\",\n",
    "    lw=3\n",
    ")"
   ]
  },
  {
   "cell_type": "code",
   "execution_count": null,
   "metadata": {},
   "outputs": [],
   "source": [
    "# Residual analysis\n",
    "fig, ax = plt.subplots()\n",
    "ax.scatter(results.fittedvalues, results.resid)\n",
    "ax.set(xlabel=\"Fitted value\", ylabel=\"Residual\")\n",
    "ax.axhline(0, c=\"k\", ls=\"--\");"
   ]
  },
  {
   "cell_type": "code",
   "execution_count": null,
   "metadata": {},
   "outputs": [],
   "source": [
    "infl = results.get_influence()\n",
    "fig, ax = plt.subplots()\n",
    "ax.scatter(np.arange(X.shape[0]), infl.hat_matrix_diag)\n",
    "ax.set(xlabel=\"Index\", ylabel=\"Levarge\")\n",
    "\n",
    "np.argmax(infl.hat_matrix_diag)"
   ]
  },
  {
   "cell_type": "markdown",
   "metadata": {},
   "source": [
    "## Multiple Linear Regression"
   ]
  },
  {
   "cell_type": "code",
   "execution_count": null,
   "metadata": {},
   "outputs": [],
   "source": [
    "X = pd.DataFrame(\n",
    "    {\n",
    "        \"intercept\": np.ones(boston.shape[0]),\n",
    "        \"lstat\": np.array(boston[\"lstat\"]),\n",
    "        \"age\": np.array(boston[\"age\"]),\n",
    "    }\n",
    ")\n",
    "y = np.array(boston[\"medv\"])\n",
    "\n",
    "model = sm.OLS(endog=y, exog=X)\n",
    "results = model.fit()\n",
    "results.summary()"
   ]
  },
  {
   "cell_type": "code",
   "execution_count": null,
   "metadata": {},
   "outputs": [],
   "source": [
    "# Backward selection based on p-values\n",
    "X = boston.drop(columns=[\"medv\", \"indus\", \"age\"])\n",
    "X.insert(loc=0, column=\"intercept\", value=np.ones(X.shape[0]))\n",
    "y = np.array(boston[\"medv\"])\n",
    "model = sm.OLS(endog=y, exog=X)\n",
    "results = model.fit()\n",
    "results.summary()"
   ]
  },
  {
   "cell_type": "code",
   "execution_count": null,
   "metadata": {},
   "outputs": [],
   "source": [
    "# Collinearity\n",
    "vals = [VIF(X, i) for i in range(1, X.shape[1])]\n",
    "vif = pd.DataFrame({\"vif\": vals}, index=X.columns[1:])\n",
    "vif"
   ]
  },
  {
   "cell_type": "markdown",
   "metadata": {},
   "source": [
    "## Non-Linear and Interaction Transforms"
   ]
  },
  {
   "cell_type": "code",
   "execution_count": null,
   "metadata": {},
   "outputs": [],
   "source": [
    "X = boston.drop(columns=[\"medv\", \"indus\"])\n",
    "X.insert(loc=0, column=\"intercept\", value=np.ones(X.shape[0]))\n",
    "y = np.array(boston[\"medv\"])\n",
    "model = sm.OLS(endog=y, exog=X)\n",
    "results1 = model.fit()\n",
    "results.summary()"
   ]
  },
  {
   "cell_type": "code",
   "execution_count": null,
   "metadata": {},
   "outputs": [],
   "source": [
    "X = boston.drop(columns=[\"medv\", \"indus\"])\n",
    "X.insert(loc=0, column=\"intercept\", value=np.ones(X.shape[0]))\n",
    "y = np.array(boston[\"medv\"])\n",
    "\n",
    "# Feature transforms\n",
    "poly_features = [\"lstat\", \"age\"]\n",
    "poly_transformer = PolynomialFeatures(degree=2, include_bias=False, interaction_only=False)\n",
    "col_transformer = ColumnTransformer(\n",
    "    transformers=[(\"poly\", poly_transformer, poly_features),],\n",
    "    remainder=\"passthrough\",\n",
    "    verbose_feature_names_out=False,\n",
    ")\n",
    "\n",
    "X = col_transformer.fit_transform(X, y)\n",
    "X = pd.DataFrame(X, columns=col_transformer.get_feature_names_out())\n",
    "\n",
    "model = sm.OLS(endog=y, exog=X)\n",
    "results2 = model.fit()\n",
    "results.summary()"
   ]
  },
  {
   "cell_type": "code",
   "execution_count": null,
   "metadata": {},
   "outputs": [],
   "source": [
    "anova_lm(results1, results2)"
   ]
  },
  {
   "cell_type": "code",
   "execution_count": null,
   "metadata": {},
   "outputs": [],
   "source": [
    "# Residual analysis\n",
    "fig, ax = plt.subplots()\n",
    "ax.scatter(results2.fittedvalues, results2.resid)\n",
    "ax.set(xlabel=\"Fitted value\", ylabel=\"Residual\")\n",
    "ax.axhline(0, c=\"k\", ls=\"--\");"
   ]
  }
 ],
 "metadata": {
  "kernelspec": {
   "display_name": ".venv",
   "language": "python",
   "name": "python3"
  },
  "language_info": {
   "codemirror_mode": {
    "name": "ipython",
    "version": 3
   },
   "file_extension": ".py",
   "mimetype": "text/x-python",
   "name": "python",
   "nbconvert_exporter": "python",
   "pygments_lexer": "ipython3",
   "version": "3.12.4"
  }
 },
 "nbformat": 4,
 "nbformat_minor": 2
}
